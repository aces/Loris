{
 "cells": [
  {
   "cell_type": "markdown",
   "metadata": {
    "colab_type": "text",
    "id": "M_RHTKtPZ_G3"
   },
   "source": [
    "# LORIS API Tour 2/2\n",
    "\n",
    "This tutorial contains basic examples in Python to demonstrate how to interact with the API.\n"
   ]
  },
  {
   "cell_type": "markdown",
   "metadata": {
    "colab_type": "text",
    "id": "To1fjtf0Z_G5"
   },
   "source": [
    "## Setup"
   ]
  },
  {
   "cell_type": "code",
   "execution_count": null,
   "metadata": {
    "colab": {},
    "colab_type": "code",
    "id": "OL4RU9ksZ_G6",
    "scrolled": true
   },
   "outputs": [],
   "source": [
    "import getpass  # For input prompt hide what is entered\n",
    "import json     # Provides convenient functions to handle json objects \n",
    "import re       # For regular expression\n",
    "import requests # To handle http requests\n",
    "import warnings # To ignore warnings\n",
    "\n",
    "# Because the ssl certificates are unverified, warnings are thrown at every \n",
    "# HTTPS request. The following command will prevent warning messages to be\n",
    "# printed at every HTTPS request.\n",
    "warnings.simplefilter('ignore')\n",
    "\n",
    "baseurl = 'https://demo.loris.ca/api/v0.0.3'\n",
    "\n",
    "def prettyPrint(string):\n",
    "    print(json.dumps(string, indent=2, sort_keys=True))"
   ]
  },
  {
   "cell_type": "markdown",
   "metadata": {
    "colab_type": "text",
    "id": "m7opbczp372G"
   },
   "source": [
    "## About the data in demo.loris.ca\n",
    "The demo instance of LORIS contains the raisinbread dataset, which is used \n",
    "by LORIS developers. For more informations about raisinbread, click [here](https://github.com/aces/Loris/tree/main/raisinbread)"
   ]
  },
  {
   "cell_type": "markdown",
   "metadata": {
    "colab_type": "text",
    "id": "jLy1LeeyZ_HE"
   },
   "source": [
    "## Exercise 1. Login\n",
    "\n",
    "This is a POST request to the `/login` endpoint that requires 2 parameters: `username` and `password`  \n",
    "The expected response is a json string that contains a token property.  \n",
    "\n",
    "https://github.com/aces/Loris/blob/main/modules/api/docs/LorisRESTAPI_v0.0.3.md"
   ]
  },
  {
   "cell_type": "code",
   "execution_count": null,
   "metadata": {
    "colab": {
     "base_uri": "https://localhost:8080/",
     "height": 106
    },
    "colab_type": "code",
    "id": "VeCuzjwbZ_HG",
    "outputId": "3c13b4b1-4de5-452e-ff2c-98c26a312bf4",
    "scrolled": true
   },
   "outputs": [],
   "source": [
    "payload = {\n",
    "    'username': input('username: '), \n",
    "    'password': getpass.getpass('password: ')\n",
    "}\n",
    "\n",
    "response = requests.post(\n",
    "    url = '/'.join([baseurl, 'login']),\n",
    "    json = payload,\n",
    "    verify = False\n",
    ")\n",
    "\n",
    "text = response.content.decode('ascii')\n",
    "\n",
    "data = json.loads(text)\n",
    "\n",
    "prettyPrint(data)"
   ]
  },
  {
   "cell_type": "markdown",
   "metadata": {
    "colab_type": "text",
    "id": "5D9tnYTTZ_HM"
   },
   "source": [
    "*Store the token in a variable for later*"
   ]
  },
  {
   "cell_type": "code",
   "execution_count": null,
   "metadata": {
    "colab": {},
    "colab_type": "code",
    "id": "NGatwtA2Z_HN",
    "scrolled": true
   },
   "outputs": [],
   "source": [
    "token = data['token']"
   ]
  },
  {
   "cell_type": "markdown",
   "metadata": {
    "colab_type": "text",
    "id": "S6G0Qn6uSyBn"
   },
   "source": [
    "The requests thoughout this tutorial are very similar, only the URL changes. We will define 5 functions that will make the tutorial easier to read.\n",
    "\n",
    "For more information on HTTP requests and their differences, you can refer to https://github.com/aces/Loris/blob/main/modules/api/docs/LorisRESTAPI_v0.0.3.md#10-overview"
   ]
  },
  {
   "cell_type": "code",
   "execution_count": null,
   "metadata": {
    "colab": {},
    "colab_type": "code",
    "id": "unsItgX_SxPF"
   },
   "outputs": [],
   "source": [
    "def GET(url):\n",
    "    \"\"\"\n",
    "    Function to send an HTTP GET request\n",
    "\n",
    "    Parameters: baseurl (URL of the api, e.g. https://demo.loris.ca/api/v0.0.3)\n",
    "\n",
    "    Returns: projects (Information on all projects)\n",
    "    \"\"\"\n",
    "    response = json.loads(requests.get(\n",
    "        url = url,\n",
    "        verify = False,\n",
    "        headers = {'Authorization': 'Bearer %s' % token}\n",
    "    ).content.decode('ascii'))\n",
    "    return response\n",
    "\n",
    "def GETFile(url):\n",
    "    \"\"\"\n",
    "    Function to send an HTTP GET request to download files\n",
    "\n",
    "    Parameters: baseurl (URL of the api, e.g. https://demo.loris.ca/api/v0.0.3)\n",
    "\n",
    "    Returns: projects (Information on all projects)\n",
    "    \"\"\"\n",
    "    filename = file['Filename']\n",
    "    image = requests.get(\n",
    "        url = url,\n",
    "        verify = False,\n",
    "        headers = {'Authorization': 'Bearer %s' % token}\n",
    "    )\n",
    "    f = open(filename, \"w+b\")\n",
    "    f.write(bytes(image.content))\n",
    "\n",
    "def PUT(url, json_input):\n",
    "    \"\"\"\n",
    "    Function to send an HTTP PUT request\n",
    "\n",
    "    Parameters: \n",
    "        baseurl     (URL of the api, e.g. https://demo.loris.ca/api/v0.0.3)\n",
    "        json_input  json object to query the information for the PUT request\n",
    "\n",
    "    \"\"\"\n",
    "    response = requests.put(\n",
    "        url = url,\n",
    "        json = json_input,\n",
    "        verify = False,\n",
    "        headers = {'Authorization': 'Bearer %s' % token}\n",
    "    )\n",
    "    print(r.status_code)\n",
    "\n",
    "def PATCH(url, json_input):\n",
    "    \"\"\"\n",
    "    Function to send an HTTP PATCH request\n",
    "\n",
    "    Parameters: \n",
    "        baseurl     (URL of the api, e.g. https://demo.loris.ca/api/v0.0.3)\n",
    "        json_input  json object to query the information for the PUT request\n",
    "\n",
    "    \"\"\"\n",
    "    response = requests.patch(\n",
    "        url = url,\n",
    "        json = json_input,\n",
    "        verify = False,\n",
    "        headers = {'Authorization': 'Bearer %s' % token}\n",
    "    )\n",
    "    print(r.status_code)\n",
    "\n",
    "def POST(url, json_input):\n",
    "    \"\"\"\n",
    "    Function to send an HTTP POST request\n",
    "\n",
    "    Parameters: \n",
    "        baseurl     (URL of the api, e.g. https://demo.loris.ca/api/v0.0.3)\n",
    "        json_input  json object to query the information for the PUT request\n",
    "\n",
    "    \"\"\"\n",
    "    response = requests.patch(\n",
    "        url = ''.join([url]),\n",
    "        json = json_input,\n",
    "        verify = False,\n",
    "        headers = {'Authorization': 'Bearer %s' % token}\n",
    "    )\n",
    "    print(r.status_code)\n",
    "\n"
   ]
  },
  {
   "cell_type": "markdown",
   "metadata": {
    "colab_type": "text",
    "id": "fi7KZk49Z_HS"
   },
   "source": [
    "# Exercice 2 - Projects\n",
    "\n",
    "The endpoints in this section are used to get information on all candidates, to get information on a specific candidate or to add a new candidate.\n",
    "\n",
    "https://github.com/aces/Loris/blob/master/modules/api/docs/LorisRESTAPI_v0.0.3.md#20-project-api"
   ]
  },
  {
   "cell_type": "markdown",
   "metadata": {
    "colab_type": "text",
    "id": "jzCOlO3uZ_HT"
   },
   "source": [
    "## Exercise 2.1 Get all projects\n",
    "\n",
    "The endpoint `/projects` can be used to obtain information on all the projects contained in the database.\n"
   ]
  },
  {
   "cell_type": "code",
   "execution_count": null,
   "metadata": {
    "colab": {},
    "colab_type": "code",
    "id": "1T3HkjzGZ_HV"
   },
   "outputs": [],
   "source": [
    "# Save the project names to test other endpoints later\n",
    "url = '/'.join([baseurl, 'projects'])\n",
    "projects = GET(url)\n",
    "projectNames = list(projects['Projects'].keys())\n",
    "\n",
    "prettyPrint(projects)"
   ]
  },
  {
   "cell_type": "markdown",
   "metadata": {
    "colab_type": "text",
    "id": "CPFAlOimZ_Ha"
   },
   "source": [
    "## Exercise 2.2 Get a specific project\n",
    "\n",
    "The endpoint `/projects/{project}` can be used to obtain information on a specific project contained in the database.\n"
   ]
  },
  {
   "cell_type": "code",
   "execution_count": null,
   "metadata": {
    "colab": {},
    "colab_type": "code",
    "id": "SmlN6N2LZ_Ha"
   },
   "outputs": [],
   "source": [
    "url = '/'.join([baseurl, 'projects', projectNames[0]])\n",
    "project = GET(url)\n",
    "prettyPrint(projects)"
   ]
  },
  {
   "cell_type": "markdown",
   "metadata": {
    "colab_type": "text",
    "id": "9qKsOts5Z_Hg"
   },
   "source": [
    "## Exercise 2.3 Get all the candidates in a specific project\n",
    "\n",
    "The endpoint `/projects/{project}/candidates` can be used to obtain information on all the candidates for a specific project.\n"
   ]
  },
  {
   "cell_type": "code",
   "execution_count": null,
   "metadata": {
    "colab": {},
    "colab_type": "code",
    "id": "J3Jj1KMgZ_Hh"
   },
   "outputs": [],
   "source": [
    "url = '/'.join([baseurl, 'projects', projectNames[0], 'candidates'])\n",
    "projectCandidates = GET(url)\n",
    "prettyPrint(projectCandidates)"
   ]
  },
  {
   "cell_type": "markdown",
   "metadata": {
    "colab_type": "text",
    "id": "N_wUqNV9Z_Hl"
   },
   "source": [
    "## Exercise 2.4 Get all the images in a specific project\n",
    "\n",
    "The endpoint `/projects/{project}/images` can be used to obtain information on all the images that are used in a project.\n"
   ]
  },
  {
   "cell_type": "code",
   "execution_count": null,
   "metadata": {
    "colab": {},
    "colab_type": "code",
    "id": "tZPm7BaaZ_Hl"
   },
   "outputs": [],
   "source": [
    "url = '/'.join([baseurl, 'projects', projectNames[0], 'images'])\n",
    "projectImages = GET(url)\n",
    "prettyPrint(projectImages)"
   ]
  },
  {
   "cell_type": "markdown",
   "metadata": {
    "colab_type": "text",
    "id": "9AGP789uZ_Hq"
   },
   "source": [
    "### Find recent images"
   ]
  },
  {
   "cell_type": "code",
   "execution_count": null,
   "metadata": {
    "colab": {},
    "colab_type": "code",
    "id": "WfN8Ae18Z_Hr"
   },
   "outputs": [],
   "source": [
    "url = '/'.join([baseurl, 'projects', projectNames[0],\n",
    "                'images?since=2018-12-13T10:20:18-05:00'])\n",
    "projectRecentImages = GET(url)\n",
    "prettyPrint(projectRecentImages)"
   ]
  },
  {
   "cell_type": "markdown",
   "metadata": {
    "colab_type": "text",
    "id": "5v19FWCSZ_Hv"
   },
   "source": [
    "## Exercise 2.5 Get all the instruments in a specific project\n",
    "\n",
    "The endpoint `/projects/{project}/instruments` can be used to obtain information on all the instruments that are used in a project.\n"
   ]
  },
  {
   "cell_type": "code",
   "execution_count": null,
   "metadata": {
    "colab": {},
    "colab_type": "code",
    "id": "dB62ig8NZ_Hv"
   },
   "outputs": [],
   "source": [
    "url = '/'.join([baseurl, 'projects', projectNames[0], 'instruments'])\n",
    "projectInstruments = GET(url)\n",
    "prettyPrint(projectInstruments)"
   ]
  },
  {
   "cell_type": "markdown",
   "metadata": {
    "colab_type": "text",
    "id": "AxFbSzu-Z_Hz"
   },
   "source": [
    "## Exercise 2.6 Get a specific instruments in a specific project\n",
    "\n",
    "The endpoint `/projects/{project}/instruments/{instrument}` can be used to obtain information on a specific instrument that is used in a specific project.\n"
   ]
  },
  {
   "cell_type": "code",
   "execution_count": null,
   "metadata": {
    "colab": {},
    "colab_type": "code",
    "id": "Gf1BiKeuZ_H0"
   },
   "outputs": [],
   "source": [
    "singleInstrument = list(projectInstruments['Instruments'].keys())[1]\n",
    "url = '/'.join([baseurl, 'projects', projectNames[0],\n",
    "                'instruments', singleInstrument])\n",
    "projectSingleInstrument = GET(url)\n",
    "prettyPrint(projectSingleInstrument)"
   ]
  },
  {
   "cell_type": "markdown",
   "metadata": {
    "colab_type": "text",
    "id": "JBtf8Y7-O8c9"
   },
   "source": [
    "## Exercise 2.7 Get all the electrophysiology recordings in a specific project\n",
    "\n",
    "The endpoint `/projects/{project}/images` can be used to obtain information on all the images that are used in a project.\n"
   ]
  },
  {
   "cell_type": "code",
   "execution_count": null,
   "metadata": {
    "colab": {},
    "colab_type": "code",
    "id": "IrPmUCDfWeEh"
   },
   "outputs": [],
   "source": [
    "url = '/'.join([baseurl, 'projects', projectNames[0], 'recordings'])\n",
    "projectRecordings = GET(url)\n",
    "prettyPrint(projectRecordings)"
   ]
  },
  {
   "cell_type": "markdown",
   "metadata": {
    "colab_type": "text",
    "id": "kp6-VkVcZ_H-"
   },
   "source": [
    "# Exercice 3 - Candidates\n",
    "\n",
    "The endpoints in this section are used to get information on all candidates, to get information on a specific candidate or to add a new candidate.\n",
    "\n",
    "https://github.com/aces/Loris/blob/master/modules/api/docs/LorisRESTAPI_v0.0.3.md#30-candidate-api"
   ]
  },
  {
   "cell_type": "markdown",
   "metadata": {
    "colab_type": "text",
    "id": "jpuY0bMWZ_H-"
   },
   "source": [
    "## Exercise 3.1 Get all candid\n",
    "\n",
    "The endpoint `/candidates` can be used to obtain information on all the candidates contained in the database.\n"
   ]
  },
  {
   "cell_type": "code",
   "execution_count": null,
   "metadata": {
    "colab": {},
    "colab_type": "code",
    "id": "5Lr8dnkMZ_H_"
   },
   "outputs": [],
   "source": [
    "url = '/'.join([baseurl, 'candidates'])\n",
    "allCandidates = GET(url)\n",
    "prettyPrint(allCandidates)"
   ]
  },
  {
   "cell_type": "markdown",
   "metadata": {
    "colab_type": "text",
    "id": "X17prp2nZ_IH"
   },
   "source": [
    "## Exercise 3.2 Create a candidate\n",
    " - Send a **POST** request to /candidates with a payload containing an object with a candidate property\n",
    " ```json\n",
    "    \"Candidate\" : {\n",
    "        \"Project\" : ProjectName,\n",
    "        \"PSCID\"   : PSCID, # only if config is set to prompt \n",
    "        \"EDC\"     : \"YYYY-MM-DD\", # optional\n",
    "        \"DoB\"     : \"YYYY-MM-DD\",\n",
    "        \"Gender\"  : \"Male|Female\",\n",
    "        \"Site\"    : SiteName,\n",
    "    }\n",
    " ```\n",
    " "
   ]
  },
  {
   "cell_type": "code",
   "execution_count": null,
   "metadata": {
    "colab": {},
    "colab_type": "code",
    "id": "peb5hsFysVZk"
   },
   "outputs": [],
   "source": [
    "# Keep some variables for the next examples\n",
    "projectname = list(projects['Projects'].keys())[0]\n",
    "sitename = allCandidates['Candidates'][0]['Site']"
   ]
  },
  {
   "cell_type": "code",
   "execution_count": null,
   "metadata": {
    "colab": {},
    "colab_type": "code",
    "id": "oPF_1OY4Z_IH"
   },
   "outputs": [],
   "source": [
    "json_data = {\n",
    "    'Candidate' : {\n",
    "        'Project' : projectname,\n",
    "        'DoB'     : \"2015-09-10\",\n",
    "        'EDC'     : \"2015-09-10\", #Optional\n",
    "        'Sex'     : \"Female\",\n",
    "        'Site'    : sitename,\n",
    "    }\n",
    "}\n",
    "url = '/'.join([baseurl, 'candidates'])\n",
    "POST(url, json_data)"
   ]
  },
  {
   "cell_type": "markdown",
   "metadata": {
    "colab_type": "text",
    "id": "LnF6O0YfZ_IK"
   },
   "source": [
    "## Exercise 3.3 Get a specific candidate\n",
    "\n",
    "This is a GET request to /candidates/{candid}\n"
   ]
  },
  {
   "cell_type": "code",
   "execution_count": null,
   "metadata": {
    "colab": {},
    "colab_type": "code",
    "id": "feax8KPMZ_IL"
   },
   "outputs": [],
   "source": [
    "candid = allCandidates['Candidates'][0]['CandID']\n",
    "singleCandidate = GET('/'.join([baseurl, 'candidates', candid]))\n",
    "prettyPrint(singleCandidate)\n",
    "# keep a visit for the next examples\n",
    "candidateVisit = singleCandidate['Visits'][0]"
   ]
  },
  {
   "cell_type": "markdown",
   "metadata": {
    "colab_type": "text",
    "id": "aKj0tijuZ_IP"
   },
   "source": [
    "# Exercice 4 - Visits\n",
    "\n",
    "The endpoints in this section are used to get information on all candidates, to get information on a specific candidate or to add a new candidate.\n",
    "\n",
    "https://github.com/aces/Loris/blob/master/modules/api/docs/LorisRESTAPI_v0.0.3.md#40-imaging-data"
   ]
  },
  {
   "cell_type": "markdown",
   "metadata": {
    "colab_type": "text",
    "id": "LYTW6ObVZ_IQ"
   },
   "source": [
    "## Exercise 4.1 Get all visits for a specific candidate\n",
    "\n",
    "This is a GET request to /candidates/{candid}/{visit}\n"
   ]
  },
  {
   "cell_type": "code",
   "execution_count": null,
   "metadata": {
    "colab": {},
    "colab_type": "code",
    "id": "KmVh_DrIZ_IR"
   },
   "outputs": [],
   "source": [
    "url = '/'.join([baseurl, 'candidates', candid, candidateVisit])\n",
    "candidateVisits = GET(url)\n",
    "prettyPrint(candidateVisits)\n"
   ]
  },
  {
   "cell_type": "markdown",
   "metadata": {
    "colab_type": "text",
    "id": "jS6ya1SrZ_IT"
   },
   "source": [
    "## Exercise 4.2 Add a timepoint for a given candidate\n",
    " - **PUT** request to /candidates/\\$candid/\\$visit_label\n",
    "```json\n",
    "{\n",
    "    \"Meta\" : {\n",
    "        \"Battery\" : \"Fresh\",\n",
    "        \"CandID\" : CandID,\n",
    "        \"Project\" : \"Pumpernickel\",\n",
    "        \"Visit\"  : VisitLabel,\n",
    "        \"Battery\": \"NameOfSubproject\"\n",
    "    \"Stages\": {\n",
    "        \"Visit\": {\n",
    "            \"Date\": \"2017-03-26\",\n",
    "        }\n",
    "    }\n",
    "}\n",
    "```\n",
    "\n",
    " - All VisitLabels for a given candidates can be found using /candidates/\\$candid/\n",
    " \n",
    " \n",
    " - Every possible visit_labels for a project can be found using /projects/\\$projectname/visits. If a \\$visit_label is in /projects/\\$projectname/visits but not in /candidates/\\$candid/ , it can be added with a **PUT** request to /candidates/\\$candid/\\$visit_label\n",
    "\n",
    "\n",
    " - Battery (NameOfSubproject) must be guessed... \n",
    " \n",
    " "
   ]
  },
  {
   "cell_type": "code",
   "execution_count": null,
   "metadata": {
    "colab": {},
    "colab_type": "code",
    "id": "kt5NUIqZZ_IT"
   },
   "outputs": [],
   "source": [
    "battery = candidateVisits['Meta']['Battery']\n",
    "\n",
    "json_data = {\n",
    "        \"Battery\" : battery,\n",
    "        \"Site\" : sitename,\n",
    "        \"CandID\" : candid,\n",
    "        \"Visit\"  : candidateVisit,\n",
    "        \"Project\": projectNames[0]\n",
    "}\n",
    "url = '/'.join([baseurl, '/candidates/', str(candid), '/', candidateVisit])\n",
    "PUT(url, json_data)\n",
    "GET(url)"
   ]
  },
  {
   "cell_type": "markdown",
   "metadata": {
    "colab_type": "text",
    "id": "bpjHjnDSZ_IX"
   },
   "source": [
    "## Exercise 4.3 Get QC/imaging of a candidate visit\n",
    "\n",
    "This is a GET request to /candidates/{candid}/{visit}\n"
   ]
  },
  {
   "cell_type": "code",
   "execution_count": null,
   "metadata": {
    "colab": {},
    "colab_type": "code",
    "id": "3Va_U3ttZ_IZ"
   },
   "outputs": [],
   "source": [
    "url = '/'.join([baseurl, 'candidates', candid, candidateVisit, 'qc', 'imaging'])\n",
    "singleCandidateQcImaging = GET(url)\n",
    "prettyPrint(singleCandidateQcImaging)"
   ]
  },
  {
   "cell_type": "markdown",
   "metadata": {
    "colab_type": "text",
    "id": "FAZ0uJNWZ_Id"
   },
   "source": [
    "## Exercise 4.4 Change QC/imaging of a candidate visit\n",
    " - **PUT** request to /candidates/\\$candid/\\$visit_label/ qc/imaging\n",
    "```json\n",
    "{\n",
    "    \"Meta\" : {\n",
    "        \"CandID\" : CandID,\n",
    "        \"Visit\"  : VisitLabel,\n",
    "        \"Battery\": \"NameOfSubproject\"\n",
    "}\n",
    "```\n",
    "\n",
    " - All VisitLabels for a given candidates can be found using /candidates/\\$candid/\n",
    " \n",
    " \n",
    " - Every possible visit_labels for a project can be found using /projects/\\$projectname/visits. If a \\$visit_label is in /projects/\\$projectname/visits but not in /candidates/\\$candid/ , it can be added using a **PUT** request to /candidates/\\$candid/\\$visit_label\n",
    "\n",
    "\n",
    " - Battery (NameOfSubproject) must be guessed... "
   ]
  },
  {
   "cell_type": "code",
   "execution_count": null,
   "metadata": {
    "colab": {},
    "colab_type": "code",
    "id": "bH3aM3k1Z_Id"
   },
   "outputs": [],
   "source": [
    "json_data = {\n",
    "    'Meta' : {\n",
    "        'CandID' : candid,\n",
    "        'Visit'  : candidateVisit,\n",
    "    },\n",
    "    'SessionQC': \"\",\n",
    "    'Pending': True\n",
    "}\n",
    "url = '/'.join([baseurl, 'candidates', candid, candidateVisit, 'qc', 'imaging'])\n",
    "PUT(url, json_data)\n",
    "visitqcImaging = GET(url)\n",
    "prettyPrint(visitqcImaging)"
   ]
  },
  {
   "cell_type": "markdown",
   "metadata": {
    "colab_type": "text",
    "id": "DaWLQ3P0Z_Ih"
   },
   "source": [
    "# Exercice 5: Instrument data for a candidate\n"
   ]
  },
  {
   "cell_type": "markdown",
   "metadata": {
    "colab_type": "text",
    "id": "CoeIBO-gZ_JS"
   },
   "source": [
    "## Exercise 5.1. Find all candidates and session with a given instruments\n",
    "\n",
    "This is a series of GET request  \n",
    "\n",
    "https://github.com/aces/Loris/blob/minor/docs/API/LorisRESTAPI.md#31-specific-candidate  \n",
    "https://github.com/aces/Loris/blob/minor/docs/API/LorisRESTAPI.md#33-candidate-instruments   \n",
    "https://github.com/aces/Loris/blob/minor/docs/API/LorisRESTAPI.md#33-the-candidate-instrument-data"
   ]
  },
  {
   "cell_type": "code",
   "execution_count": null,
   "metadata": {
    "colab": {},
    "colab_type": "code",
    "id": "Ffx_zUJL18Lr"
   },
   "outputs": [],
   "source": [
    "request_count = 0\n",
    "\n",
    "for candidate in allCandidates['Candidates']:\n",
    "    candid = candidate['CandID']\n",
    "    request_count += 1\n",
    "    visit_labels = GET('/'.join([baseurl, 'candidates', candid]))['Visits']\n",
    "    for visit_label in visit_labels:\n",
    "        request_count += 1\n",
    "        instruments = GET('/'.join([baseurl,\n",
    "                                    'candidates',\n",
    "                                    candid, \n",
    "                                    visit_label, \n",
    "                                    'instruments']))['Instruments']\n",
    "        for instrument in instruments:\n",
    "            request_count += 1\n",
    "            instr = GET('/'.join([baseurl,\n",
    "                                  'candidates',\n",
    "                                  candid,\n",
    "                                  visit_label,\n",
    "                                  'instruments',\n",
    "                                  instrument]))\n",
    "            print(json.dumps(instr, indent=2, sort_keys=True))\n",
    "print(request_count)\n",
    "\n"
   ]
  },
  {
   "cell_type": "code",
   "execution_count": null,
   "metadata": {
    "colab": {},
    "colab_type": "code",
    "id": "kB8lTZ_tJo9b"
   },
   "outputs": [],
   "source": [
    "# Get an example of candid and visit_label from the last \n",
    "# sample visited in the loop \n",
    "candid_instruments = instr['Meta']['Candidate']\n",
    "visit_label_instruments = instr['Meta']['Visit']\n",
    "candid_instrument = instr['Meta']['Instrument']"
   ]
  },
  {
   "cell_type": "markdown",
   "metadata": {
    "colab_type": "text",
    "id": "UjJHqAJOZ_Ij"
   },
   "source": [
    "## Exercise 5.2 GET all instruments for a candidate\n"
   ]
  },
  {
   "cell_type": "code",
   "execution_count": null,
   "metadata": {
    "colab": {},
    "colab_type": "code",
    "id": "wzsa1VeSZ_Im"
   },
   "outputs": [],
   "source": [
    "url = '/'.join([baseurl, 'candidates', candid_instruments, \n",
    "                visit_label_instruments, 'instruments'])\n",
    "candidateinstruments = GET(url)\n",
    "prettyPrint(candidateinstruments)"
   ]
  },
  {
   "cell_type": "markdown",
   "metadata": {
    "colab_type": "text",
    "id": "4gWbZfmmZ_Ip"
   },
   "source": [
    "## Exercise 5.3 Input instrument data for a candidate\n",
    "  \n",
    "GET, PUT or PATCH request to /candidates/$CandID/$VisitLabel/instruments/$InstrumentName  \n",
    "\n",
    "https://github.com/aces/Loris/blob/main/modules/api/docs/LorisRESTAPI_v0.0.3.md#33-the-candidate-instrument-data\n",
    "\n",
    "data format:\n",
    "```json\n",
    "{\n",
    "  \"Meta\": {\n",
    "    \"Candidate\": string,\n",
    "    \"Visit\": string\n",
    "    \"DDE\": true|false,\n",
    "    \"Instrument\": string,\n",
    "  },\n",
    "  <instrument_name>: {\n",
    "    <field1_name>: <value1>,\n",
    "    <field2_name>: <value2>,\n",
    "    ...\n",
    "  }\n",
    "}\n",
    "```\n"
   ]
  },
  {
   "cell_type": "markdown",
   "metadata": {
    "colab_type": "text",
    "id": "VxVjtL5DZ_Iq"
   },
   "source": [
    "### 5.3.1 GET request containing all the fields"
   ]
  },
  {
   "cell_type": "code",
   "execution_count": null,
   "metadata": {
    "colab": {},
    "colab_type": "code",
    "id": "uGm9o_hgZ_Ir"
   },
   "outputs": [],
   "source": [
    "url = '/'.join([baseurl, 'candidates', candid_instruments, \n",
    "                visit_label_instruments, 'instruments', candid_instrument])\n",
    "candidateSelectedInstrument = GET(url)\n",
    "prettyPrint(candidateSelectedInstrument)"
   ]
  },
  {
   "cell_type": "markdown",
   "metadata": {
    "colab_type": "text",
    "id": "ZMc3I2J0Z_Iu"
   },
   "source": [
    "### 5.3.2 PATCH request"
   ]
  },
  {
   "cell_type": "code",
   "execution_count": null,
   "metadata": {
    "colab": {},
    "colab_type": "code",
    "id": "zxWudNM9Z_Iu"
   },
   "outputs": [],
   "source": [
    "# Get all the fields an meta data\n",
    "url = '/'.join([baseurl, 'candidates', candid_instruments, \n",
    "                visit_label_instruments, 'instruments', candid_instrument])\n",
    "json_input = GET(url)\n",
    "\n",
    "# Update one field\n",
    "json_input[candid_instrument]['Candidate_Age'] = 3\n",
    "json_input[candid_instrument]['UserID'] = 'something2'\n",
    "\n",
    "PATCH(url, json_input)\n",
    "candidateSelectedInstrument = GET(url)\n",
    "prettyPrint(candidateSelectedInstrument)"
   ]
  },
  {
   "cell_type": "markdown",
   "metadata": {
    "colab_type": "text",
    "collapsed": true,
    "id": "ArQ4bQhSZ_Ix"
   },
   "source": [
    "### 5.3.3 PUT request"
   ]
  },
  {
   "cell_type": "code",
   "execution_count": null,
   "metadata": {
    "colab": {},
    "colab_type": "code",
    "id": "RxS2tSz8Z_Ix"
   },
   "outputs": [],
   "source": [
    "# Get all the fields an meta data\n",
    "json_input = {\n",
    "    'Meta': {\n",
    "        'Candidate': candid_instruments,\n",
    "        'DDE': False,\n",
    "        'Instrument': candid_instrument,\n",
    "        'Visit': candidateVisit},\n",
    "        instrument: {'Candidate_Age': 42}}\n",
    "\n",
    "url = '/'.join([baseurl, 'candidates', candid, candidateVisit,\n",
    "                'instruments', instrument])\n",
    "PUT(url, json_input)\n",
    "candidateSelectedInstrument = GET(url)\n",
    "# Candidate_Age should be changed to '41' and UserID back to null\n",
    "prettyPrint(candidateSelectedInstrument)\n",
    "\n",
    "# PROBLEM: UserID stays at the current modified value\n"
   ]
  },
  {
   "cell_type": "markdown",
   "metadata": {
    "colab_type": "text",
    "id": "kPFWkmKGZ_I0"
   },
   "source": [
    "## Exercise 5.4 Input instrument flags for a candidate\n",
    "  \n",
    "PUT or PATCH request to /candidates/$CandID/$VisitLabel/instruments/$InstrumentName  \n",
    "\n",
    "https://github.com/aces/Loris/blob/minor/docs/API/LorisRESTAPI.md#33-the-candidate-instrument-data\n",
    "\n",
    "data format:\n",
    "```json\n",
    "{\n",
    "  \"Meta\": {\n",
    "    \"Candidate\": string,\n",
    "    \"Visit\": string\n",
    "    \"DDE\": false,\n",
    "    \"Instrument\": string,\n",
    "  },\n",
    "  \"Flags\": {\n",
    "    \"Data_entry\": string,\n",
    "    \"Administration\": string\n",
    "    \"Validity\": true|false\n",
    "  }\n",
    "}\n",
    "```\n"
   ]
  },
  {
   "cell_type": "markdown",
   "metadata": {
    "colab_type": "text",
    "id": "18xS-y0sZ_I1"
   },
   "source": [
    "### 5.4.1 GET request containing all the fields for an instrument flags"
   ]
  },
  {
   "cell_type": "code",
   "execution_count": null,
   "metadata": {
    "colab": {},
    "colab_type": "code",
    "id": "tptGeSjuZ_I1"
   },
   "outputs": [],
   "source": [
    "url = '/'.join([baseurl, 'candidates', candid, visit_label_instruments,\n",
    "                'instruments', candid_instrument, 'flags'])\n",
    "candidateSelectedInstrumentFlags = GET(url)\n",
    "prettyPrint(candidateSelectedInstrumentFlags)"
   ]
  },
  {
   "cell_type": "markdown",
   "metadata": {
    "colab_type": "text",
    "id": "J8FFbWSXZ_I3"
   },
   "source": [
    "#### 5.4.2 PUT request containing all the fields"
   ]
  },
  {
   "cell_type": "code",
   "execution_count": null,
   "metadata": {
    "colab": {},
    "colab_type": "code",
    "id": "I391GbvMZ_I4"
   },
   "outputs": [],
   "source": [
    "json_input = GET(url)\n",
    "\n",
    "# Update one field\n",
    "json_input = {\n",
    "    'Meta': {\n",
    "        'Candidate': candid_instruments,\n",
    "        'DDE': False,\n",
    "        'Instrument': candid_instrument,\n",
    "        'Visit': candidateVisit},\n",
    "        'Flags': {'Administration': 1}}\n",
    "\n",
    "PUT(url, json_input)\n",
    "candidateSelectedInstrument = GET(url)\n",
    "prettyPrint(candidateSelectedInstrument)"
   ]
  },
  {
   "cell_type": "markdown",
   "metadata": {
    "colab_type": "text",
    "collapsed": true,
    "id": "aHWLDwr2Z_I6"
   },
   "source": [
    "#### 5.4.3 PATCH request containing some of the fields"
   ]
  },
  {
   "cell_type": "code",
   "execution_count": null,
   "metadata": {
    "colab": {},
    "colab_type": "code",
    "id": "e8bds5kqZ_I7"
   },
   "outputs": [],
   "source": [
    "json_input = GET(url)\n",
    "\n",
    "# Update one field\n",
    "json_input['Flags']['Administration'] = 1\n",
    "json_input['Flags']['Data_entry'] = 1\n",
    "\n",
    "PATCH(url, json_input)\n",
    "candidateSelectedInstrument = GET(url)\n",
    "prettyPrint(candidateSelectedInstrument)"
   ]
  },
  {
   "cell_type": "markdown",
   "metadata": {
    "colab_type": "text",
    "id": "fHSnyQIxZ_I-"
   },
   "source": [
    "## Exercise 5.5 Input instrument DDE for a candidate\n",
    "  \n",
    "GET, PUT or PATCH request to /candidates/$CandID/$VisitLabel/instruments/$InstrumentName  \n",
    "\n",
    "https://github.com/aces/Loris/blob/minor/docs/API/LorisRESTAPI.md#33-the-candidate-instrument-data\n",
    "\n",
    "data format:\n",
    "```json\n",
    "{\n",
    "  \"Meta\": {\n",
    "    \"Candidate\": string,\n",
    "    \"DDE\": true,\n",
    "    \"Instrument\": string,\n",
    "    \"Visit\": string\n",
    "  },\n",
    "  <instrument_name>: {\n",
    "    <field1_name>: <value1>,\n",
    "    <field2_name>: <value2>,\n",
    "    ...\n",
    "  }\n",
    "}\n",
    "```\n"
   ]
  },
  {
   "cell_type": "markdown",
   "metadata": {
    "colab_type": "text",
    "id": "YMc_U1nNZ_I-"
   },
   "source": [
    "#### 5.5.1 GET request containing all the fields"
   ]
  },
  {
   "cell_type": "code",
   "execution_count": null,
   "metadata": {
    "colab": {},
    "colab_type": "code",
    "id": "KV5w-zYcZ_I_"
   },
   "outputs": [],
   "source": [
    "url = '/'.join([baseurl, 'candidates', candid_instruments, visit_label_instruments,\n",
    "                'instruments', candid_instrument, 'dde'])\n",
    "\n",
    "candidateSelectedInstrumentDde = GET(url)\n",
    "\n",
    "prettyPrint(candidateSelectedInstrumentDde)"
   ]
  },
  {
   "cell_type": "markdown",
   "metadata": {
    "colab_type": "text",
    "id": "jYUDFdPeZ_JC"
   },
   "source": [
    "#### 5.5.2 PATCH request containing all the fields"
   ]
  },
  {
   "cell_type": "code",
   "execution_count": null,
   "metadata": {
    "colab": {},
    "colab_type": "code",
    "id": "vE5p6tYYZ_JD"
   },
   "outputs": [],
   "source": [
    "# Get all the fields and meta data\n",
    "json_input = GET(url)\n",
    "# Update one field\n",
    "json_input[candid_instrument]['Candidate_Age'] = 5\n",
    "json_input[candid_instrument]['UserID'] = '30'\n",
    "\n",
    "PATCH(url, json_input)\n",
    "candidateSelectedInstrumentDde = GET(url)\n",
    "prettyPrint(candidateSelectedInstrumentDde)"
   ]
  },
  {
   "cell_type": "markdown",
   "metadata": {
    "colab_type": "text",
    "id": "h9pRQ4ptZ_JF"
   },
   "source": [
    "#### 5.5.3 PUT request containing a single field to modify"
   ]
  },
  {
   "cell_type": "code",
   "execution_count": null,
   "metadata": {
    "colab": {},
    "colab_type": "code",
    "id": "m5BO7XYgZ_JF"
   },
   "outputs": [],
   "source": [
    "## Update one field\n",
    "json_input = {\n",
    "    'Meta': {\n",
    "        'Candidate': candid_instruments,\n",
    "        'DDE': True,\n",
    "        'Instrument': candid_instrument,\n",
    "        'Visit': candidateVisit},\n",
    "        'aosi': {'Candidate_Age': '1'}}\n",
    "\n",
    "PATCH(url, json_input)\n",
    "candidateSelectedInstrumentDde = GET(url)\n",
    "prettyPrint(candidateSelectedInstrumentDde)"
   ]
  },
  {
   "cell_type": "markdown",
   "metadata": {
    "colab_type": "text",
    "id": "_XGFujjgZ_JH"
   },
   "source": [
    "## Exercise 5.6 Input instrument DDE flags for a candidate\n",
    "  \n",
    "PUT or PATCH request to /candidates/$CandID/$VisitLabel/instruments/$InstrumentName  \n",
    "\n",
    "https://github.com/aces/Loris/blob/minor/docs/API/LorisRESTAPI.md#33-the-candidate-instrument-data\n",
    "\n",
    "data format:\n",
    "```json\n",
    "{\n",
    "  \"Meta\": {\n",
    "    \"Candidate\": string,\n",
    "    \"Visit\": string\n",
    "    \"DDE\": true,\n",
    "    \"Instrument\": string,\n",
    "  },\n",
    "  \"Flags\": {\n",
    "    \"Data_entry\": string,\n",
    "    \"Administration\": string\n",
    "    \"Validity\": true|false\n",
    "  }\n",
    "}\n",
    "```\n"
   ]
  },
  {
   "cell_type": "markdown",
   "metadata": {
    "colab_type": "text",
    "id": "XdN74QuuZ_JI"
   },
   "source": [
    "### 5.6.1 GET request to query all the fields"
   ]
  },
  {
   "cell_type": "code",
   "execution_count": null,
   "metadata": {
    "colab": {},
    "colab_type": "code",
    "id": "XoYY_d6ZZ_JI"
   },
   "outputs": [],
   "source": [
    "url = '/'.join([baseurl, 'candidates', candid, visit_label_instruments,\n",
    "                'instruments', instrument, 'flags', 'dde'])\n",
    "candidateSelectedInstrumentDdeFlags = GET(url)\n",
    "\n",
    "prettyPrint(candidateSelectedInstrumentDdeFlags)"
   ]
  },
  {
   "cell_type": "markdown",
   "metadata": {
    "colab_type": "text",
    "id": "HxctEE5eZ_JM"
   },
   "source": [
    "### 5.6.2 PATCH request"
   ]
  },
  {
   "cell_type": "code",
   "execution_count": null,
   "metadata": {
    "colab": {},
    "colab_type": "code",
    "id": "XY3BqhCRZ_JN"
   },
   "outputs": [],
   "source": [
    "# Get all the fields an meta data\n",
    "json_input = GET(url)\n",
    "\n",
    "# Update one field\n",
    "json_input['Flags']['Data_entry'] = 3\n",
    "\n",
    "PATCH(url, json_input)\n",
    "candidateSelectedInstrumentDdeFlags = GET(url)\n",
    "prettyPrint(candidateSelectedInstrumentDdeFlags)"
   ]
  },
  {
   "cell_type": "markdown",
   "metadata": {
    "colab_type": "text",
    "id": "rxnCPAqlZ_JQ"
   },
   "source": [
    "### 5.6.3 PUT request"
   ]
  },
  {
   "cell_type": "code",
   "execution_count": null,
   "metadata": {
    "colab": {},
    "colab_type": "code",
    "id": "bIlFWsMsZ_JQ"
   },
   "outputs": [],
   "source": [
    "json_input = {\n",
    "    'Meta': {\n",
    "        'Candidate': candid_instruments,\n",
    "        'DDE': False,\n",
    "        'Instrument': candid_instrument,\n",
    "        'Visit': candidateVisit},\n",
    "        'Flags': {'Administration': 1}}\n",
    "\n",
    "# Update one field\n",
    "json_input['Flags']['Data_entry'] = 3\n",
    "\n",
    "PATCH(url, json_input)\n",
    "candidateSelectedInstrumentDdeFlags = GET(url)\n",
    "prettyPrint(candidateSelectedInstrumentDdeFlags)"
   ]
  },
  {
   "cell_type": "markdown",
   "metadata": {
    "colab_type": "text",
    "id": "Qe2m8DiLZ_Jb"
   },
   "source": [
    "# Exercice 6: Images data for a candidate"
   ]
  },
  {
   "cell_type": "code",
   "execution_count": null,
   "metadata": {
    "colab": {},
    "colab_type": "code",
    "id": "scDCK1vNZ_Jc"
   },
   "outputs": [],
   "source": [
    "candid_img = projectImages['Images'][0]['Candidate']\n",
    "visit_img = projectImages['Images'][0]['Visit']\n",
    "imagename = projectImages['Images'][0]['Link'].split('/')[-1]"
   ]
  },
  {
   "cell_type": "markdown",
   "metadata": {
    "colab_type": "text",
    "id": "8BBd1x6UZ_Js"
   },
   "source": [
    "## Exercise 6.1 Find all images of a candidate for a visit"
   ]
  },
  {
   "cell_type": "code",
   "execution_count": null,
   "metadata": {
    "colab": {},
    "colab_type": "code",
    "id": "aj_7xTsRZ_Jt"
   },
   "outputs": [],
   "source": [
    "url = '/'.join([baseurl, 'candidates', candid_img, visit_img, 'images'])\n",
    "candidateImages = GET(url)\n",
    "prettyPrint(candidateImages)"
   ]
  },
  {
   "cell_type": "markdown",
   "metadata": {
    "colab_type": "text",
    "collapsed": true,
    "id": "ZGeysW3jZ_Jw"
   },
   "source": [
    "## Exercise 6.2 Download all minc files of a candidate"
   ]
  },
  {
   "cell_type": "code",
   "execution_count": null,
   "metadata": {
    "colab": {},
    "colab_type": "code",
    "id": "2bV8fY56Z_Jz"
   },
   "outputs": [],
   "source": [
    "for file in candidateImages['Files']:\n",
    "    filename = file['Filename']\n",
    "    url = '/'.join([baseurl, 'candidates', candid_img, \n",
    "                    visit_img, 'images', filename])\n",
    "    GETFile(url)"
   ]
  },
  {
   "cell_type": "markdown",
   "metadata": {
    "colab_type": "text",
    "id": "R8Af77jdZ_J1"
   },
   "source": []
  },
  {
   "cell_type": "markdown",
   "metadata": {
    "colab_type": "text",
    "collapsed": true,
    "id": "-mhpGnYZZ_J1"
   },
   "source": [
    "## Exercise 6.3 GET QC data for a MINC image file"
   ]
  },
  {
   "cell_type": "code",
   "execution_count": null,
   "metadata": {
    "colab": {},
    "colab_type": "code",
    "id": "K7m1hKONZ_J2"
   },
   "outputs": [],
   "source": [
    "url = '/'.join([baseurl, 'candidates', candid_img, visit_img, 'images',\n",
    "                imagename, 'qc'])\n",
    "candidateImagesQc = GET(url)\n",
    "prettyPrint(candidateImagesQc)"
   ]
  },
  {
   "cell_type": "markdown",
   "metadata": {
    "colab_type": "text",
    "collapsed": true,
    "id": "YZ2E1-0vZ_J6"
   },
   "source": [
    "## Exercise 6.4 PUT QC data for a MINC image file\n",
    "\n",
    "PUT request to /candidates/$CandID/$VisitLabel/images/$imagename/qc  \n",
    "\n",
    "https://github.com/aces/Loris/blob/minor/docs/API/LorisRESTAPI.md#\n",
    "\n",
    "data format:\n",
    "```json\n",
    "{\n",
    "            'Meta'     : {\n",
    "                'CandID' : string,\n",
    "                'Visit'  : string,\n",
    "                'File'   : string\n",
    "            },\n",
    "            \"QC\"       : string|null,\n",
    "            \"Selected\" : boolean,\n",
    "            'Caveats'  : {\n",
    "                '0' : {\n",
    "                    'Severity'   : string|null,\n",
    "                    'Header'     : string|null,\n",
    "                    'Value'      : string|null,\n",
    "                    'ValidRange' : string|null,\n",
    "                    'ValidRegex' : string|null\n",
    "                    }\n",
    "                }\n",
    "}\n",
    "```\n"
   ]
  },
  {
   "cell_type": "code",
   "execution_count": null,
   "metadata": {
    "colab": {},
    "colab_type": "code",
    "id": "9d3BzLQEZ_J7"
   },
   "outputs": [],
   "source": [
    "json_input = GET(url)\n",
    "json_input['Selected'] = False\n",
    "\n",
    "PATCH(url, json_input)\n",
    "candidateSelectedInstrumentDdeFlags = GET(url)\n",
    "prettyPrint(candidateSelectedInstrumentDdeFlags)"
   ]
  },
  {
   "cell_type": "markdown",
   "metadata": {
    "colab_type": "text",
    "collapsed": true,
    "id": "uG-RMi7lZ_J8"
   },
   "source": [
    "## Exercise 6.5 GET Image formats"
   ]
  },
  {
   "cell_type": "markdown",
   "metadata": {
    "colab_type": "text",
    "id": "y2Yo72Z4Z_J9"
   },
   "source": [
    "### Exercise 6.5.1 GET Image Brainbrowser format"
   ]
  },
  {
   "cell_type": "code",
   "execution_count": null,
   "metadata": {
    "colab": {},
    "colab_type": "code",
    "id": "YmfR1ZspZ_J-"
   },
   "outputs": [],
   "source": [
    "candidateImageFormatBrainbrowser = GET('/'.join([baseurl, 'candidates',\n",
    "                                                 candid_img, visit_img, \n",
    "                                                 'images', imagename, \n",
    "                                                 'format', 'brainbrowser'])) \n",
    "prettyPrint(candidateImageFormatBrainbrowser)"
   ]
  },
  {
   "cell_type": "markdown",
   "metadata": {
    "colab_type": "text",
    "id": "K70ADQqyZ_KA"
   },
   "source": [
    "### Exercise 6.5.2 GET Image Raw format"
   ]
  },
  {
   "cell_type": "code",
   "execution_count": null,
   "metadata": {
    "colab": {},
    "colab_type": "code",
    "id": "wHXd9jAvZ_KA"
   },
   "outputs": [],
   "source": [
    "url = '/'.join([baseurl, 'candidates', candid_img, visit_img, \n",
    "                'images', imagename, 'format', 'raw'])\n",
    "GETFile(url)"
   ]
  },
  {
   "cell_type": "markdown",
   "metadata": {
    "colab_type": "text",
    "id": "GsH7Rd-PZ_KD"
   },
   "source": [
    "### Exercise 6.5.3 GET Image Thumbnail format"
   ]
  },
  {
   "cell_type": "code",
   "execution_count": null,
   "metadata": {
    "colab": {},
    "colab_type": "code",
    "id": "XB7_engPZ_KD"
   },
   "outputs": [],
   "source": [
    "url = '/'.join([baseurl, 'candidates', candid_img, visit_img, \n",
    "                        'images', imagename, 'format', 'thumbnail'])\n",
    "GETFile(url)"
   ]
  },
  {
   "cell_type": "markdown",
   "metadata": {
    "colab_type": "text",
    "collapsed": true,
    "id": "NPxJD1qGZ_KG"
   },
   "source": [
    "## Exercise 6.6 GET Image headers"
   ]
  },
  {
   "cell_type": "markdown",
   "metadata": {
    "colab_type": "text",
    "id": "22liB7f0Z_KG"
   },
   "source": [
    "### Exercise 6.6.1 GET Image headers"
   ]
  },
  {
   "cell_type": "code",
   "execution_count": null,
   "metadata": {
    "colab": {},
    "colab_type": "code",
    "id": "kha_56KaZ_KG"
   },
   "outputs": [],
   "source": [
    "url = '/'.join([baseurl, 'candidates', candid_img,\n",
    "                visit_img, 'images', imagename, 'headers'])\n",
    "candidateImageHeaders = GET(url)\n",
    "prettyPrint(candidateImageHeaders)"
   ]
  },
  {
   "cell_type": "markdown",
   "metadata": {
    "colab_type": "text",
    "id": "2NTTTbpEZ_KJ"
   },
   "source": [
    "### Exercise 6.6.2 GET Image headers full"
   ]
  },
  {
   "cell_type": "code",
   "execution_count": null,
   "metadata": {
    "colab": {},
    "colab_type": "code",
    "id": "4Mwx2sUzZ_KJ"
   },
   "outputs": [],
   "source": [
    "url = '/'.join([baseurl, 'candidates', candid_img,\n",
    "                visit_img, 'images', imagename, 'headers', 'full'])\n",
    "candidateImageHeadersFull = GET(url)\n",
    "prettyPrint(candidateImageHeadersFull)"
   ]
  },
  {
   "cell_type": "markdown",
   "metadata": {
    "colab_type": "text",
    "id": "cJaYuH1QZ_KL"
   },
   "source": [
    "### Exercise 6.6.3 GET Image headers headername"
   ]
  },
  {
   "cell_type": "code",
   "execution_count": null,
   "metadata": {
    "colab": {},
    "colab_type": "code",
    "id": "LGLd7RnAZ_KL"
   },
   "outputs": [],
   "source": [
    "url = '/'.join([baseurl, 'candidates', candid_img, visit_img, \n",
    "                'images', imagename, 'headers', 'specific'])\n",
    "candidateImageHeadersHeadername = GET(url)\n",
    "prettyPrint(candidateImageHeadersHeadername)"
   ]
  },
  {
   "cell_type": "markdown",
   "metadata": {
    "colab_type": "text",
    "id": "Dtywr8XNXGj9"
   },
   "source": [
    "# Exercice 7: Electrophysiology recordings data for a candidate"
   ]
  },
  {
   "cell_type": "code",
   "execution_count": null,
   "metadata": {
    "colab": {},
    "colab_type": "code",
    "id": "ue1qf0VEXoSN"
   },
   "outputs": [],
   "source": [
    "# First, find a candidate visit with an electrophysiology recording\n",
    "candid_recs = projectRecordings['Recordings'][0]['Candidate']\n",
    "visit_recs = projectRecordings['Recordings'][0]['Visit']\n",
    "recording_filename = projectRecordings['Recordings'][0]['Link'].split('/')[-1]"
   ]
  },
  {
   "cell_type": "markdown",
   "metadata": {
    "colab_type": "text",
    "id": "QjFXat-5YflT"
   },
   "source": [
    "## Exercise 7.1 Find all recordings of a candidate for a visit"
   ]
  },
  {
   "cell_type": "code",
   "execution_count": null,
   "metadata": {
    "colab": {},
    "colab_type": "code",
    "id": "qt8XScb_YflV"
   },
   "outputs": [],
   "source": [
    "url = '/'.join([baseurl, 'candidates', candid_recs, visit_recs, 'recordings'])\n",
    "candidateRecordings = GET(url)\n",
    "prettyPrint(candidateRecordings)"
   ]
  },
  {
   "cell_type": "markdown",
   "metadata": {
    "colab_type": "text",
    "id": "hek9DsaZd5My"
   },
   "source": [
    "## Exercise 7.2 Download electrophysiology recording (edf) files"
   ]
  },
  {
   "cell_type": "code",
   "execution_count": null,
   "metadata": {
    "colab": {},
    "colab_type": "code",
    "id": "JtZbwj60dzQS"
   },
   "outputs": [],
   "source": [
    "url = '/'.join([baseurl, 'candidates', candid_recs, visit_recs, \n",
    "                'recordings', recording_filename])\n",
    "GETFile(url)"
   ]
  },
  {
   "cell_type": "markdown",
   "metadata": {
    "colab_type": "text",
    "id": "90a003rShpEL"
   },
   "source": [
    "## Exercise 7.3 Get electrophysiology recording channels data"
   ]
  },
  {
   "cell_type": "code",
   "execution_count": null,
   "metadata": {
    "colab": {},
    "colab_type": "code",
    "id": "PQmIY_nLjwSz"
   },
   "outputs": [],
   "source": [
    "url = '/'.join([baseurl, 'candidates', candid_recs, visit_recs, \n",
    "                'recordings', recording_filename, 'channels'])\n",
    "candidateRecordingsChannels = GET(url)\n",
    "prettyPrint(candidateRecordingsChannels)"
   ]
  },
  {
   "cell_type": "markdown",
   "metadata": {
    "colab_type": "text",
    "id": "nnJANTZGlCfL"
   },
   "source": [
    "## Exercise 7.4 Get electrophysiology recording channels meta data"
   ]
  },
  {
   "cell_type": "code",
   "execution_count": null,
   "metadata": {
    "colab": {},
    "colab_type": "code",
    "id": "5XMlmRMXlDjH"
   },
   "outputs": [],
   "source": [
    "url = '/'.join([baseurl, 'candidates', candid_recs, visit_recs, 'recordings', \n",
    "                recording_filename, 'channels', 'meta'])\n",
    "candidateRecordingsChannelsMeta = GET(url)\n",
    "prettyPrint(candidateRecordingsChannels)"
   ]
  },
  {
   "cell_type": "markdown",
   "metadata": {
    "colab_type": "text",
    "id": "_B1FwuLPj9Vi"
   },
   "source": [
    "## Exercise 7.5 Get electrophysiology recording electrodes data"
   ]
  },
  {
   "cell_type": "code",
   "execution_count": null,
   "metadata": {
    "colab": {},
    "colab_type": "code",
    "id": "dBcTZTDXj85r"
   },
   "outputs": [],
   "source": [
    "url = '/'.join([baseurl, 'candidates', candid_recs, visit_recs, 'recordings', \n",
    "                recording_filename, 'electrodes'])\n",
    "candidateRecordingsElectrodes = GET(url)\n",
    "prettyPrint(candidateRecordingsChannels)"
   ]
  },
  {
   "cell_type": "markdown",
   "metadata": {
    "colab_type": "text",
    "id": "Afvz7E1Yl4aU"
   },
   "source": [
    "## Exercise 7.6 Get electrophysiology recording electrodes meta data"
   ]
  },
  {
   "cell_type": "code",
   "execution_count": null,
   "metadata": {
    "colab": {},
    "colab_type": "code",
    "id": "Q5gKdXdclzyG"
   },
   "outputs": [],
   "source": [
    "url = '/'.join([baseurl, 'candidates', candid_recs, visit_recs, 'recordings', \n",
    "                recording_filename, 'electrodes', 'meta'])\n",
    "candidateRecordingsElectrodesMeta = GET(url)\n",
    "prettyPrint(candidateRecordingsChannels)"
   ]
  },
  {
   "cell_type": "markdown",
   "metadata": {
    "colab_type": "text",
    "id": "VjdEazWokc6O"
   },
   "source": [
    "## Exercise 7.7 Get electrophysiology recording events data"
   ]
  },
  {
   "cell_type": "code",
   "execution_count": null,
   "metadata": {
    "colab": {},
    "colab_type": "code",
    "id": "xF4ch6pQkdEj"
   },
   "outputs": [],
   "source": [
    "url = '/'.join([baseurl, 'candidates', candid_recs, visit_recs, \n",
    "                'recordings', recording_filename, 'events'])\n",
    "candidateRecordingsEvents = GET(url)\n",
    "prettyPrint(candidateRecordingsEvents)"
   ]
  },
  {
   "cell_type": "markdown",
   "metadata": {
    "colab_type": "text",
    "id": "ROy3vUS7mSgv"
   },
   "source": [
    "## Exercise 7.8 Get electrophysiology recording events meta data"
   ]
  },
  {
   "cell_type": "code",
   "execution_count": null,
   "metadata": {
    "colab": {},
    "colab_type": "code",
    "id": "jKT8PA3kmTCR"
   },
   "outputs": [],
   "source": [
    "url = '/'.join([baseurl, 'candidates', candid_recs, visit_recs, 'recordings', \n",
    "                recording_filename, 'events', 'meta'])\n",
    "candidateRecordingsEventsMeta = GET(url)\n",
    "prettyPrint(candidateRecordingsEventsMeta)"
   ]
  },
  {
   "cell_type": "markdown",
   "metadata": {
    "colab_type": "text",
    "id": "HTJjrtTtZ_KN"
   },
   "source": [
    "# Exercise 8 - Dicoms"
   ]
  },
  {
   "cell_type": "code",
   "execution_count": null,
   "metadata": {
    "colab": {},
    "colab_type": "code",
    "id": "ZJhfo1iB_PqE"
   },
   "outputs": [],
   "source": [
    "# The flag is used to break the loops once an example that contains a \n",
    "# Dicom file is found\n",
    "flag = 0\n",
    "\n",
    "for candidate in allCandidates['Candidates']:\n",
    "    candid = candidate['CandID']\n",
    "    visit_labels = GET('/'.join([baseurl, 'candidates', candid]))['Visits']\n",
    "    if flag == 1:\n",
    "        break\n",
    "    candid = candidate['CandID']\n",
    "    visit_labels = GET('/'.join([baseurl, 'candidates', candid]))['Visits']\n",
    "    for visit_label in visit_labels:\n",
    "        dicoms = GET('/'.join([baseurl, 'candidates', candid, \n",
    "                               visit_label, 'dicoms']))\n",
    "        # We only want to get a single valid example of a candidate and visit that\n",
    "        # has Dicom files that can be used to test the Dicoms endpoints \n",
    "        if len(dicoms['DicomTars']) > 0:\n",
    "            flag = 1\n",
    "            break\n"
   ]
  },
  {
   "cell_type": "markdown",
   "metadata": {
    "colab_type": "text",
    "id": "BoZpEtboZ_KP"
   },
   "source": [
    "## Exercise 8.1 GET a list of Dicom files for a candidate"
   ]
  },
  {
   "cell_type": "code",
   "execution_count": null,
   "metadata": {
    "colab": {},
    "colab_type": "code",
    "id": "FpYUXCceB__y"
   },
   "outputs": [],
   "source": [
    "# Get an example of candid, visit_label and dicom tarname from the last \n",
    "# sample visited in the loop \n",
    "candid_dicom = dicoms['Meta']['CandID']\n",
    "dicom_visit = dicoms['Meta']['Visit']\n",
    "dicom_name = dicoms['DicomTars'][0]['Tarname']"
   ]
  },
  {
   "cell_type": "code",
   "execution_count": null,
   "metadata": {
    "colab": {},
    "colab_type": "code",
    "id": "x3ShVP5TZ_KQ"
   },
   "outputs": [],
   "source": [
    "url = '/'.join([baseurl, 'candidates', candid_recs, visit_recs, 'dicoms'])\n",
    "candidateDicoms = GET(url)\n",
    "prettyPrint(candidateRecordingsEventsMeta)"
   ]
  },
  {
   "cell_type": "markdown",
   "metadata": {
    "colab_type": "text",
    "id": "XI_H3vXXZ_KS"
   },
   "source": [
    "## Exercise 8.2 Download a Dicom tar file"
   ]
  },
  {
   "cell_type": "code",
   "execution_count": null,
   "metadata": {
    "colab": {},
    "colab_type": "code",
    "id": "ATyjac9VZ_KS"
   },
   "outputs": [],
   "source": [
    "GETFile('/'.join([baseurl, 'candidates', candid_recs, visit_recs, 'dicoms', dicom_name]))"
   ]
  }
 ],
 "metadata": {
  "colab": {
   "collapsed_sections": [
    "N_wUqNV9Z_Hl",
    "9AGP789uZ_Hq",
    "5v19FWCSZ_Hv",
    "AxFbSzu-Z_Hz",
    "JBtf8Y7-O8c9",
    "jpuY0bMWZ_H-",
    "X17prp2nZ_IH",
    "LnF6O0YfZ_IK",
    "LYTW6ObVZ_IQ",
    "jS6ya1SrZ_IT",
    "bpjHjnDSZ_IX",
    "FAZ0uJNWZ_Id",
    "UjJHqAJOZ_Ij",
    "4gWbZfmmZ_Ip",
    "VxVjtL5DZ_Iq",
    "ZMc3I2J0Z_Iu",
    "ArQ4bQhSZ_Ix",
    "kPFWkmKGZ_I0",
    "18xS-y0sZ_I1",
    "J8FFbWSXZ_I3",
    "aHWLDwr2Z_I6",
    "fHSnyQIxZ_I-",
    "YMc_U1nNZ_I-",
    "jYUDFdPeZ_JC",
    "h9pRQ4ptZ_JF",
    "_XGFujjgZ_JH",
    "XdN74QuuZ_JI",
    "HxctEE5eZ_JM",
    "rxnCPAqlZ_JQ",
    "8BBd1x6UZ_Js",
    "ZGeysW3jZ_Jw",
    "-mhpGnYZZ_J1",
    "YZ2E1-0vZ_J6",
    "uG-RMi7lZ_J8",
    "y2Yo72Z4Z_J9",
    "K70ADQqyZ_KA",
    "GsH7Rd-PZ_KD",
    "NPxJD1qGZ_KG",
    "22liB7f0Z_KG",
    "2NTTTbpEZ_KJ",
    "cJaYuH1QZ_KL",
    "QjFXat-5YflT",
    "hek9DsaZd5My",
    "90a003rShpEL",
    "nnJANTZGlCfL",
    "_B1FwuLPj9Vi",
    "Afvz7E1Yl4aU",
    "VjdEazWokc6O",
    "ROy3vUS7mSgv",
    "BoZpEtboZ_KP",
    "XI_H3vXXZ_KS"
   ],
   "name": "LORIS-API_Part2-Python-script.ipynb",
   "provenance": []
  },
  "kernelspec": {
   "display_name": "Python 3",
   "language": "python",
   "name": "python3"
  },
  "language_info": {
   "codemirror_mode": {
    "name": "ipython",
    "version": 3
   },
   "file_extension": ".py",
   "mimetype": "text/x-python",
   "name": "python",
   "nbconvert_exporter": "python",
   "pygments_lexer": "ipython3",
   "version": "3.8.3"
  }
 },
 "nbformat": 4,
 "nbformat_minor": 1
}
